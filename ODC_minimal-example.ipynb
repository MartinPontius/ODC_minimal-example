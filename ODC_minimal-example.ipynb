{
 "cells": [
  {
   "cell_type": "code",
   "execution_count": null,
   "id": "fcaa9f20",
   "metadata": {},
   "outputs": [],
   "source": [
    "%load_ext autoreload\n",
    "%autoreload 2"
   ]
  },
  {
   "cell_type": "code",
   "execution_count": null,
   "id": "b41de5ae",
   "metadata": {},
   "outputs": [],
   "source": [
    "import os\n",
    "import rioxarray\n",
    "import xarray as xr\n",
    "import numpy as np\n",
    "import matplotlib.pyplot as plt\n",
    "import datacube"
   ]
  },
  {
   "cell_type": "markdown",
   "id": "d9d9dfa9",
   "metadata": {},
   "source": [
    "<hr style=\"border:2px solid gray\"> </hr>"
   ]
  },
  {
   "cell_type": "markdown",
   "id": "96004ed2",
   "metadata": {},
   "source": [
    "# Create dataset"
   ]
  },
  {
   "cell_type": "code",
   "execution_count": null,
   "id": "337f7e1b",
   "metadata": {},
   "outputs": [],
   "source": [
    "# Create array for wave height\n",
    "height = xr.DataArray(np.array([[1,2,3],[4,5,6]]), dims=(\"latitude\", \"longitude\"), coords={\"latitude\": [1,2], \"longitude\": [1,2,3]})\n",
    "height.attrs['long_name'] = 'Wave height'\n",
    "height = height.astype('int16', copy=False)\n",
    "height"
   ]
  },
  {
   "cell_type": "code",
   "execution_count": null,
   "id": "514e301b",
   "metadata": {},
   "outputs": [],
   "source": [
    "# Create array for wave period\n",
    "period = height.copy(deep=True, data=np.array([[7,8,9],[10,11,12]]))\n",
    "period.attrs['long_name'] = 'Wave period'  \n",
    "period = period.astype('int16', copy=False)\n",
    "period"
   ]
  },
  {
   "cell_type": "code",
   "execution_count": null,
   "id": "946a1046",
   "metadata": {},
   "outputs": [],
   "source": [
    "height.plot();"
   ]
  },
  {
   "cell_type": "code",
   "execution_count": null,
   "id": "ac707110",
   "metadata": {},
   "outputs": [],
   "source": [
    "# Create dataset with wave height and period\n",
    "ds = xr.Dataset({\"height\": height, \"period\": period})\n",
    "ds.rio.write_crs(4326, inplace=True)\n",
    "#ds.rio.write_transform(inplace=True)\n",
    "ds"
   ]
  },
  {
   "cell_type": "markdown",
   "id": "1685b987",
   "metadata": {},
   "source": [
    "<hr style=\"border:2px solid gray\"> </hr>"
   ]
  },
  {
   "cell_type": "markdown",
   "id": "8c992403",
   "metadata": {},
   "source": [
    "# Save dataset to disk"
   ]
  },
  {
   "cell_type": "code",
   "execution_count": null,
   "id": "61a5ce2a",
   "metadata": {},
   "outputs": [],
   "source": [
    "# Save dataset to netCDF file\n",
    "file = \"minimal-example.nc\"\n",
    "ds.to_netcdf(path=file, mode=\"w\")"
   ]
  },
  {
   "cell_type": "code",
   "execution_count": null,
   "id": "6442f7e0",
   "metadata": {},
   "outputs": [],
   "source": [
    "# Check file with rio/gdalinfo\n",
    "#!rio info $file | jq\n",
    "#!gdalinfo $file"
   ]
  },
  {
   "cell_type": "markdown",
   "id": "8a2bc947",
   "metadata": {},
   "source": [
    "<hr style=\"border:2px solid gray\"> </hr>"
   ]
  },
  {
   "cell_type": "markdown",
   "id": "b0851967",
   "metadata": {},
   "source": [
    "# Load dataset from disk"
   ]
  },
  {
   "cell_type": "code",
   "execution_count": null,
   "id": "8ab93d26",
   "metadata": {},
   "outputs": [],
   "source": [
    "# Load dataset from disk\n",
    "ds_disk = xr.open_dataset(file)\n",
    "ds_disk"
   ]
  },
  {
   "cell_type": "code",
   "execution_count": null,
   "id": "494aa824",
   "metadata": {},
   "outputs": [],
   "source": [
    "fig, axes = plt.subplots(ncols=2, figsize=(15,5))\n",
    "ds_disk.height.plot(ax=axes[0]);\n",
    "ds_disk.period.plot(ax=axes[1]);\n",
    "plt.tight_layout()"
   ]
  },
  {
   "cell_type": "markdown",
   "id": "11a914ae",
   "metadata": {},
   "source": [
    "<hr style=\"border:2px solid gray\"> </hr>"
   ]
  },
  {
   "cell_type": "markdown",
   "id": "6b254e92",
   "metadata": {},
   "source": [
    "# Load dataset from Open Data Cube"
   ]
  },
  {
   "cell_type": "code",
   "execution_count": null,
   "id": "fabaf6a9",
   "metadata": {},
   "outputs": [],
   "source": [
    "# Create datacube instance\n",
    "dc = datacube.Datacube()"
   ]
  },
  {
   "cell_type": "code",
   "execution_count": null,
   "id": "8b383103",
   "metadata": {},
   "outputs": [],
   "source": [
    "# List available products\n",
    "product_list = dc.list_products()\n",
    "product_list"
   ]
  },
  {
   "cell_type": "code",
   "execution_count": null,
   "id": "0432a3ac",
   "metadata": {},
   "outputs": [],
   "source": [
    "# List available datasets/measurements\n",
    "measurement_list = dc.list_measurements()\n",
    "measurement_list"
   ]
  },
  {
   "cell_type": "code",
   "execution_count": null,
   "id": "d787f871",
   "metadata": {},
   "outputs": [],
   "source": [
    "# Define parameters\n",
    "product = \"minimal_example_eo3\"\n",
    "output_crs = \"EPSG:4326\"\n",
    "resolution = (1, 1)\n",
    "align = (0.5, 0.5)\n",
    "measurements = [\"height\", \"period\"]\n",
    "\n",
    "#query = {\"align\": align}\n",
    "query = {\"latitude\": (1, 2), \"longitude\": (1, 3), \"align\": align, \"measurements\": measurements}"
   ]
  },
  {
   "cell_type": "code",
   "execution_count": null,
   "id": "de8d4514",
   "metadata": {},
   "outputs": [],
   "source": [
    "# output_crs and resolution are required for eo3 metadata\n",
    "ds_datacube = dc.load(product, \n",
    "                      output_crs=output_crs, \n",
    "                      resolution=resolution, \n",
    "                      **query)\n",
    "ds_datacube"
   ]
  },
  {
   "cell_type": "code",
   "execution_count": null,
   "id": "006bb441",
   "metadata": {},
   "outputs": [],
   "source": [
    "fig, axes = plt.subplots(ncols=2, figsize=(15,5))\n",
    "ds_datacube.height.plot(ax=axes[0]);\n",
    "ds_datacube.period.plot(ax=axes[1]);\n",
    "plt.tight_layout()"
   ]
  },
  {
   "cell_type": "code",
   "execution_count": null,
   "id": "1cbfe2ea",
   "metadata": {},
   "outputs": [],
   "source": []
  }
 ],
 "metadata": {
  "kernelspec": {
   "display_name": "Python 3 (ipykernel)",
   "language": "python",
   "name": "python3"
  },
  "language_info": {
   "codemirror_mode": {
    "name": "ipython",
    "version": 3
   },
   "file_extension": ".py",
   "mimetype": "text/x-python",
   "name": "python",
   "nbconvert_exporter": "python",
   "pygments_lexer": "ipython3",
   "version": "3.10.6"
  }
 },
 "nbformat": 4,
 "nbformat_minor": 5
}
